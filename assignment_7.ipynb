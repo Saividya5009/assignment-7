{
  "nbformat": 4,
  "nbformat_minor": 0,
  "metadata": {
    "colab": {
      "name": "assignment 7.ipynb",
      "provenance": [],
      "authorship_tag": "ABX9TyPXKyWbCis62RiPXb4pnuTr",
      "include_colab_link": true
    },
    "kernelspec": {
      "name": "python3",
      "display_name": "Python 3"
    }
  },
  "cells": [
    {
      "cell_type": "markdown",
      "metadata": {
        "id": "view-in-github",
        "colab_type": "text"
      },
      "source": [
        "<a href=\"https://colab.research.google.com/github/Saividya5009/assignment-7/blob/master/assignment_7.ipynb\" target=\"_parent\"><img src=\"https://colab.research.google.com/assets/colab-badge.svg\" alt=\"Open In Colab\"/></a>"
      ]
    },
    {
      "cell_type": "markdown",
      "metadata": {
        "id": "TT8EuQ6qBH7h",
        "colab_type": "text"
      },
      "source": [
        "1.caluculate length of a string"
      ]
    },
    {
      "cell_type": "code",
      "metadata": {
        "id": "4O6LWfMXBaRh",
        "colab_type": "code",
        "colab": {
          "base_uri": "https://localhost:8080/",
          "height": 34
        },
        "outputId": "fe1de72b-e71d-4e3d-e937-e88a84cd6dcd"
      },
      "source": [
        "len(\"good morning\")"
      ],
      "execution_count": 4,
      "outputs": [
        {
          "output_type": "execute_result",
          "data": {
            "text/plain": [
              "12"
            ]
          },
          "metadata": {
            "tags": []
          },
          "execution_count": 4
        }
      ]
    },
    {
      "cell_type": "markdown",
      "metadata": {
        "id": "mzYWIqnwCeVz",
        "colab_type": "text"
      },
      "source": [
        "2.count the no of charecters in a string."
      ]
    },
    {
      "cell_type": "code",
      "metadata": {
        "id": "dU_eFtvUDPDi",
        "colab_type": "code",
        "colab": {
          "base_uri": "https://localhost:8080/",
          "height": 34
        },
        "outputId": "965363d4-88ce-49a7-c628-b6a6d3b19794"
      },
      "source": [
        "s=\"lovely day\"\n",
        "count={}\n",
        "for k in s:\n",
        "  if k in count:\n",
        "    count[k]=count[k]+1\n",
        "  else:\n",
        "    count[k]=1\n",
        "print(\"the count of all charecters are:\",str(count))\n"
      ],
      "execution_count": 52,
      "outputs": [
        {
          "output_type": "stream",
          "text": [
            "the count of all charecters are: {'l': 2, 'o': 1, 'v': 1, 'e': 1, 'y': 2, ' ': 1, 'd': 1, 'a': 1}\n"
          ],
          "name": "stdout"
        }
      ]
    },
    {
      "cell_type": "markdown",
      "metadata": {
        "id": "Y9SxOjRRGevX",
        "colab_type": "text"
      },
      "source": [
        "3.to get a single string from two given strings, separated by a space and swap the first two characters of each string."
      ]
    },
    {
      "cell_type": "code",
      "metadata": {
        "id": "PvycNuJCHFyy",
        "colab_type": "code",
        "colab": {
          "base_uri": "https://localhost:8080/",
          "height": 34
        },
        "outputId": "2553327c-f3ba-4aef-f255-a4f79e0ce045"
      },
      "source": [
        "def char(a,b):\n",
        "  A=b[:2]+a[2:]\n",
        "  B=a[:2]+b[2:]\n",
        "  return A +\" \"+ B\n",
        "print(char('123','xyz'))"
      ],
      "execution_count": 14,
      "outputs": [
        {
          "output_type": "stream",
          "text": [
            "xy3 12z\n"
          ],
          "name": "stdout"
        }
      ]
    },
    {
      "cell_type": "markdown",
      "metadata": {
        "id": "261dv8VNJhsV",
        "colab_type": "text"
      },
      "source": [
        "4.\tWrite a Python script that takes input from the user and displays that input back in upper and lower cases"
      ]
    },
    {
      "cell_type": "code",
      "metadata": {
        "id": "ZaG604fUJi0P",
        "colab_type": "code",
        "colab": {
          "base_uri": "https://localhost:8080/",
          "height": 68
        },
        "outputId": "b4640528-764d-4aeb-93de-59c5625face4"
      },
      "source": [
        "s=str(input(\"enter the string\"))\n",
        "print(s.upper())\n",
        "print(s.lower())"
      ],
      "execution_count": 18,
      "outputs": [
        {
          "output_type": "stream",
          "text": [
            "enter the stringsaiVIdya\n",
            "SAIVIDYA\n",
            "saividya\n"
          ],
          "name": "stdout"
        }
      ]
    },
    {
      "cell_type": "markdown",
      "metadata": {
        "id": "4BmdfvQjLfqe",
        "colab_type": "text"
      },
      "source": [
        "5.Write a Python program to remove a newline in Python"
      ]
    },
    {
      "cell_type": "code",
      "metadata": {
        "id": "aleh-D2WL5c7",
        "colab_type": "code",
        "colab": {
          "base_uri": "https://localhost:8080/",
          "height": 51
        },
        "outputId": "042d78ec-f5e3-4254-c099-32eee4ca38ab"
      },
      "source": [
        "s=\"sai vidya\"\n",
        "print(s)\n",
        "print(s.rstrip())"
      ],
      "execution_count": 22,
      "outputs": [
        {
          "output_type": "stream",
          "text": [
            "sai vidya\n",
            "sai vidya\n"
          ],
          "name": "stdout"
        }
      ]
    },
    {
      "cell_type": "markdown",
      "metadata": {
        "id": "RuiHx3w5MjXn",
        "colab_type": "text"
      },
      "source": [
        "6.Write a Python program to count occurrences of a substring in a string"
      ]
    },
    {
      "cell_type": "code",
      "metadata": {
        "id": "rfLoavnJM4pn",
        "colab_type": "code",
        "colab": {
          "base_uri": "https://localhost:8080/",
          "height": 51
        },
        "outputId": "c58f4d3a-9eb5-4cc3-9f69-5f9a1c1d1acf"
      },
      "source": [
        "s=\"twinkle twinkle little star\"\n",
        "sub=\"twinkle\"\n",
        "print(s)\n",
        "print(s.count(\"twinkle\"))"
      ],
      "execution_count": 24,
      "outputs": [
        {
          "output_type": "stream",
          "text": [
            "twinkle twinkle little star\n",
            "2\n"
          ],
          "name": "stdout"
        }
      ]
    },
    {
      "cell_type": "markdown",
      "metadata": {
        "id": "SU_UKiiBN9YR",
        "colab_type": "text"
      },
      "source": [
        "7.\tWrite a Python program to convert a string in a list."
      ]
    },
    {
      "cell_type": "code",
      "metadata": {
        "id": "U3m5vlZyN_45",
        "colab_type": "code",
        "colab": {
          "base_uri": "https://localhost:8080/",
          "height": 34
        },
        "outputId": "4457b8b1-7b95-4d6e-fcaf-243da0e16ce2"
      },
      "source": [
        "def string(s):\n",
        "  L=list(s.split(\" \"))\n",
        "  return L\n",
        "s=\"johnny johnny yes papa\"\n",
        "print(string(s))"
      ],
      "execution_count": 26,
      "outputs": [
        {
          "output_type": "stream",
          "text": [
            "['johnny', 'johnny', 'yes', 'papa']\n"
          ],
          "name": "stdout"
        }
      ]
    },
    {
      "cell_type": "markdown",
      "metadata": {
        "id": "lmR8wJgrPtL9",
        "colab_type": "text"
      },
      "source": [
        "8.\tWrite a Python program to perform Deletion of a character "
      ]
    },
    {
      "cell_type": "code",
      "metadata": {
        "id": "zYI1TJdsQJzP",
        "colab_type": "code",
        "colab": {
          "base_uri": "https://localhost:8080/",
          "height": 34
        },
        "outputId": "3b40dee8-22b9-409b-d86a-ea4366497798"
      },
      "source": [
        "s=\"xyzaaa123\"\n",
        "print(s.replace('a',\"\"))"
      ],
      "execution_count": 28,
      "outputs": [
        {
          "output_type": "stream",
          "text": [
            "xyz123\n"
          ],
          "name": "stdout"
        }
      ]
    },
    {
      "cell_type": "markdown",
      "metadata": {
        "id": "TVv83YaTRDKo",
        "colab_type": "text"
      },
      "source": [
        "9.\tWrite a program to print every character of a string entered by user in a new line using loop. "
      ]
    },
    {
      "cell_type": "code",
      "metadata": {
        "id": "j_VI4B9uRIWl",
        "colab_type": "code",
        "colab": {
          "base_uri": "https://localhost:8080/",
          "height": 119
        },
        "outputId": "43db23ab-4bed-4903-9e9e-8bffe4b59fa0"
      },
      "source": [
        "s=str(input(\"enter the string\"))\n",
        "for i in s:\n",
        "  print(i)"
      ],
      "execution_count": 35,
      "outputs": [
        {
          "output_type": "stream",
          "text": [
            "enter the stringvidya\n",
            "v\n",
            "i\n",
            "d\n",
            "y\n",
            "a\n"
          ],
          "name": "stdout"
        }
      ]
    },
    {
      "cell_type": "markdown",
      "metadata": {
        "id": "d2GPLorjbDIF",
        "colab_type": "text"
      },
      "source": [
        "10.\tWrite a program to find the length of the string \"refrigerator\" without using len function"
      ]
    },
    {
      "cell_type": "code",
      "metadata": {
        "id": "a7p54OwGbI98",
        "colab_type": "code",
        "colab": {
          "base_uri": "https://localhost:8080/",
          "height": 34
        },
        "outputId": "8ccfbb8e-dbb9-495e-f0af-0b4611b15e87"
      },
      "source": [
        "count=0\n",
        "s=\"refrigerator\"\n",
        "for i in s:\n",
        "  count=count+1\n",
        "print(count)\n",
        "  "
      ],
      "execution_count": 36,
      "outputs": [
        {
          "output_type": "stream",
          "text": [
            "12\n"
          ],
          "name": "stdout"
        }
      ]
    }
  ]
}